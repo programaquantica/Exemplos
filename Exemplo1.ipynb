{
 "cells": [
  {
   "cell_type": "markdown",
   "metadata": {},
   "source": [
    "# Exemplo de notebook\n",
    "\n",
    "Este notebook mostra como fazer as seguintes tarefas:\n",
    "\n",
    "1. Montar um circuito básico para gerar um dos estados de Bell\n",
    "2. Mostrar o circuito\n",
    "3. Simular e fazer o histograma da distribuição de probabilidades\n",
    "4. Rodar nos computadores quânticos da IBM (ibmqx2, ibmqx4 e ibmq_16_melbourne)\n",
    "\n",
    "**Atenção:** Para executar cada comando é necessário pressionar SHIFT-ENTER (o cursor deve estar na caixa correspondente). Para mais detalhes, pressionar ESC-h.\n"
   ]
  },
  {
   "cell_type": "code",
   "execution_count": 1,
   "metadata": {},
   "outputs": [],
   "source": [
    "from qiskit import *\n",
    "from qiskit.tools.monitor import job_monitor\n",
    "from qiskit.tools.visualization import plot_histogram"
   ]
  },
  {
   "cell_type": "code",
   "execution_count": 2,
   "metadata": {},
   "outputs": [
    {
     "data": {
      "text/plain": [
       "<qiskit.circuit.instructionset.InstructionSet at 0x7feacbb19f80>"
      ]
     },
     "execution_count": 2,
     "metadata": {},
     "output_type": "execute_result"
    }
   ],
   "source": [
    "### Montagem do circuito\n",
    "q = QuantumRegister(2)\n",
    "c = ClassicalRegister(2)\n",
    "circuito = QuantumCircuit(q, c)\n",
    "circuito.h(q[0])\n",
    "circuito.cx(q[0], q[1])\n",
    "circuito.measure(q[0], c[0])\n",
    "circuito.measure(q[1], c[1])"
   ]
  },
  {
   "cell_type": "code",
   "execution_count": 3,
   "metadata": {},
   "outputs": [
    {
     "data": {
      "image/png": "[encoded data removed]",
      "text/plain": [
       "<Figure size 340.233x204.68 with 1 Axes>"
      ]
     },
     "execution_count": 3,
     "metadata": {},
     "output_type": "execute_result"
    }
   ],
   "source": [
    "circuito.draw(output='mpl')\n",
    "#circuito.draw(output='latex')  # segunda opção para visualizar o circuito\n",
    "#print(circuito)  # terceira opção para visualizar o circuito"
   ]
  },
  {
   "cell_type": "code",
   "execution_count": 4,
   "metadata": {},
   "outputs": [],
   "source": [
    "## comando para gerar o código QASM do circuito\n",
    "# print(circuito.qasm())"
   ]
  },
  {
   "cell_type": "code",
   "execution_count": 5,
   "metadata": {},
   "outputs": [
    {
     "name": "stdout",
     "output_type": "stream",
     "text": [
      "{'00': 503, '11': 521}\n"
     ]
    }
   ],
   "source": [
    "### Comandos para simular a saída do circuito\n",
    "simulador = BasicAer.get_backend('qasm_simulator')\n",
    "job1 = execute(circuito, simulador, shots=1024)\n",
    "resultado1 = job1.result()\n",
    "contagem1 = resultado1.get_counts()\n",
    "print(contagem1)"
   ]
  },
  {
   "cell_type": "code",
   "execution_count": 6,
   "metadata": {},
   "outputs": [
    {
     "data": {
      "image/png": "[encoded data removed]",
      "text/plain": [
       "<Figure size 504x360 with 1 Axes>"
      ]
     },
     "execution_count": 6,
     "metadata": {},
     "output_type": "execute_result"
    }
   ],
   "source": [
    "plot_histogram(contagem1)"
   ]
  },
  {
   "cell_type": "code",
   "execution_count": 7,
   "metadata": {},
   "outputs": [],
   "source": [
    "\n",
    "### Este comando deve ser usado uma única vez, pois o valor do token ficará gravado so seu laptop.\n",
    "### Vá na página do IBM Q Experience, clique no seu usuário (boneco no alto a direita) para entrar na sua conta. \n",
    "### Copie o 'API Token' e cole no comando abaixo.\n",
    "from qiskit import IBMQ\n",
    "#IBMQ.save_account('')"
   ]
  },
  {
   "cell_type": "code",
   "execution_count": 8,
   "metadata": {},
   "outputs": [],
   "source": [
    "### Este comando só vai funcionar se você conseguiu ter sucesso no comando anterior.\n",
    "### Este comando deve ser dado toda vez que abrir este notebook\n",
    "from qiskit import IBMQ\n",
    "provedor = IBMQ.load_account()"
   ]
  },
  {
   "cell_type": "code",
   "execution_count": 9,
   "metadata": {},
   "outputs": [
    {
     "name": "stdout",
     "output_type": "stream",
     "text": [
      "name                           operational     pending_jobs\n",
      " \n",
      "ibmq_qasm_simulator                  True    2\n",
      "ibmq_armonk                          True    1\n",
      "ibmq_santiago                        False    2031\n",
      "ibmq_bogota                          True    78\n",
      "ibmq_lima                            True    77\n",
      "ibmq_belem                           True    24\n",
      "ibmq_quito                           True    26\n",
      "simulator_statevector                True    3\n",
      "simulator_mps                        True    3\n",
      "simulator_extended_stabilizer        True    3\n",
      "simulator_stabilizer                 True    3\n",
      "ibmq_manila                          True    370\n"
     ]
    }
   ],
   "source": [
    "### Lista das máquinas disponíveis e o número de jobs na fila. \n",
    "print('name',' '*25,'operational','   ', 'pending_jobs')\n",
    "print(' ')\n",
    "for backend in provedor.backends():\n",
    "    name = backend.name()\n",
    "    print(name,' '*(35-len(name)),backend.status().operational,'  ',backend.status().pending_jobs)"
   ]
  },
  {
   "cell_type": "code",
   "execution_count": 10,
   "metadata": {},
   "outputs": [
    {
     "name": "stdout",
     "output_type": "stream",
     "text": [
      "Job Status: job has successfully run\n",
      "{'00': 503, '01': 29, '10': 57, '11': 435}\n"
     ]
    }
   ],
   "source": [
    "### O comando get_backend seleciona o backend\n",
    "### O comando execute executa o circuito no backend escolhido\n",
    "### O job entra na fila. A espera pode demorar MUITAS HORAS.\n",
    "### O comando job_monitor mostra a posição em tempo real.\n",
    "### Se a conexão com a internet for interrompida, o job é cancelado.\n",
    "maquina = provedor.get_backend('ibmq_belem')\n",
    "job2 = execute(circuito, maquina, shots=1024)\n",
    "job_monitor(job2)\n",
    "resultado2 = job2.result()\n",
    "contagem2 = resultado2.get_counts()\n",
    "print(contagem2)"
   ]
  },
  {
   "cell_type": "code",
   "execution_count": 11,
   "metadata": {},
   "outputs": [
    {
     "data": {
      "image/png": "[encoded data removed]",
      "text/plain": [
       "<Figure size 504x360 with 1 Axes>"
      ]
     },
     "execution_count": 11,
     "metadata": {},
     "output_type": "execute_result"
    }
   ],
   "source": [
    "plot_histogram(contagem2)"
   ]
  },
  {
   "cell_type": "code",
   "execution_count": 12,
   "metadata": {},
   "outputs": [
    {
     "data": {
      "image/png": "[encoded data removed]",
      "text/plain": [
       "<Figure size 504x360 with 1 Axes>"
      ]
     },
     "execution_count": 12,
     "metadata": {},
     "output_type": "execute_result"
    }
   ],
   "source": [
    "plot_histogram([contagem1,contagem2])"
   ]
  },
  {
   "cell_type": "code",
   "execution_count": null,
   "metadata": {},
   "outputs": [],
   "source": []
  }
 ],
 "metadata": {
  "kernelspec": {
   "display_name": "Python 3 (ipykernel)",
   "language": "python",
   "name": "python3"
  },
  "language_info": {
   "codemirror_mode": {
    "name": "ipython",
    "version": 3
   },
   "file_extension": ".py",
   "mimetype": "text/x-python",
   "name": "python",
   "nbconvert_exporter": "python",
   "pygments_lexer": "ipython3",
   "version": "3.8.5"
  }
 },
 "nbformat": 4,
 "nbformat_minor": 2
}
